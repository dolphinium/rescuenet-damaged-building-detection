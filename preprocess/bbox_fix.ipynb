{
 "cells": [
  {
   "cell_type": "code",
   "execution_count": 1,
   "metadata": {},
   "outputs": [],
   "source": [
    "import cv2\n",
    "import numpy as np\n",
    "import os\n",
    "import matplotlib.pyplot as plt"
   ]
  },
  {
   "cell_type": "code",
   "execution_count": 2,
   "metadata": {},
   "outputs": [],
   "source": [
    "# Define class labels\n",
    "class_labels = {\n",
    "    1: 'building-no-damage',\n",
    "    2: 'damaged-building'  # Merging medium, major damage, and total destruction into one class\n",
    "}\n",
    "\n",
    "# Define colors for each class for visualization\n",
    "colors = {\n",
    "    1: (255, 0, 0),     # Blue for building-no-damage\n",
    "    2: (255, 0, 255),   # Magenta for damaged-building\n",
    "}"
   ]
  },
  {
   "cell_type": "code",
   "execution_count": 3,
   "metadata": {},
   "outputs": [],
   "source": [
    "# Convert mask to bounding boxes\n",
    "def mask_to_bboxes(mask):\n",
    "    bboxes = []\n",
    "    for class_id in np.unique(mask):\n",
    "        if class_id == 0:  # Skip background\n",
    "            continue\n",
    "        # Find contours for the current class\n",
    "        contours, _ = cv2.findContours((mask == class_id).astype(np.uint8), cv2.RETR_EXTERNAL, cv2.CHAIN_APPROX_SIMPLE)\n",
    "        for contour in contours:\n",
    "            x, y, w, h = cv2.boundingRect(contour)\n",
    "            if class_id in [4, 5, 6]:  # Convert damaged classes to a single class id 2\n",
    "                class_id = 2\n",
    "            elif class_id == 3:  # Building no damage class\n",
    "                class_id = 1\n",
    "            else:\n",
    "                continue\n",
    "            bboxes.append((class_id, x, y, x + w, y + h))\n",
    "    return bboxes"
   ]
  },
  {
   "cell_type": "code",
   "execution_count": 4,
   "metadata": {},
   "outputs": [],
   "source": [
    "# Convert mask to bounding boxes\n",
    "def mask_to_bboxes_single(mask_path):\n",
    "    mask = cv2.imread(mask_path, cv2.IMREAD_GRAYSCALE)\n",
    "    bboxes = []\n",
    "    count = 0\n",
    "    for class_id in np.unique(mask):\n",
    "        if class_id == 0:  # Skip background\n",
    "            continue\n",
    "        # Find contours for the current class\n",
    "        contours, _ = cv2.findContours((mask == class_id).astype(np.uint8), cv2.RETR_EXTERNAL, cv2.CHAIN_APPROX_SIMPLE)\n",
    "        for contour in contours:\n",
    "            x, y, w, h = cv2.boundingRect(contour)\n",
    "            print(x, y, w, h,class_id)\n",
    "            if class_id in [4, 5, 6]:  # Convert damaged classes to a single class id 2\n",
    "                class_id = 2\n",
    "            elif class_id == 3:  # Building no damage class\n",
    "                count += 1\n",
    "                class_id = 1\n",
    "            else:\n",
    "                continue\n",
    "            bboxes.append((class_id, x, y, x + w, y + h))\n",
    "    print(count)\n",
    "    return bboxes"
   ]
  },
  {
   "cell_type": "code",
   "execution_count": 12,
   "metadata": {},
   "outputs": [
    {
     "name": "stdout",
     "output_type": "stream",
     "text": [
      "3392 1952 1 2 1\n",
      "1158 1707 2842 1293 1\n",
      "3623 1325 377 348 1\n",
      "3408 1281 2 1 1\n",
      "3394 1280 5 1 1\n",
      "3380 1279 9 1 1\n",
      "2219 1186 1194 416 1\n",
      "1082 1060 826 446 1\n",
      "0 953 751 2026 1\n",
      "3168 0 832 482 1\n",
      "0 0 2797 349 1\n",
      "3524 2001 474 995 3\n",
      "2986 1927 447 923 1\n",
      "2591 1891 392 915 1\n",
      "1788 1856 747 906 1\n",
      "1303 2042 521 871 4\n",
      "2337 1612 336 122 7\n",
      "809 239 602 162 7\n",
      "186 174 321 138 7\n",
      "2801 0 152 215 7\n",
      "0 0 4000 3000 8\n",
      "1\n",
      "[(1, 3524, 2001, 3998, 2996), (2, 1303, 2042, 1824, 2913)]\n"
     ]
    }
   ],
   "source": [
    "# base_dir = 'data'\n",
    "mask_path = \"../data/raw_data/train/train-label-img/10862_lab.png\"\n",
    "\n",
    "print(mask_to_bboxes_single(mask_path))"
   ]
  },
  {
   "cell_type": "code",
   "execution_count": 15,
   "metadata": {},
   "outputs": [
    {
     "name": "stdout",
     "output_type": "stream",
     "text": [
      "Processing complete.\n"
     ]
    }
   ],
   "source": [
    "import os\n",
    "\n",
    "# Define the path to the annotations file\n",
    "annotations_file = 'bboxes/yolo_annotations_full.txt'\n",
    "\n",
    "# Create directories if they do not exist\n",
    "os.makedirs('labels/train', exist_ok=True)\n",
    "os.makedirs('labels/val', exist_ok=True)\n",
    "os.makedirs('labels/test', exist_ok=True)\n",
    "\n",
    "# Function to get the new class label\n",
    "def get_new_class_label(old_class):\n",
    "    if old_class == 3:\n",
    "        return 0\n",
    "    elif old_class in [4, 5, 6]:\n",
    "        return 1\n",
    "    else:\n",
    "        return None\n",
    "\n",
    "# Dictionary to keep track of the images processed\n",
    "processed_images = {}\n",
    "\n",
    "# Read the annotations file\n",
    "with open(annotations_file, 'r') as file:\n",
    "    lines = file.readlines()\n",
    "\n",
    "# Process each line\n",
    "for line in lines:\n",
    "    parts = line.strip().split()\n",
    "    image_path = parts[0]\n",
    "    class_label = int(parts[1])\n",
    "    bbox_info = parts[2:]\n",
    "\n",
    "    # Get the new class label\n",
    "    new_class_label = get_new_class_label(class_label)\n",
    "    if new_class_label is None:\n",
    "        # Track images that should have empty annotation files\n",
    "        if image_path not in processed_images:\n",
    "            processed_images[image_path] = []\n",
    "        continue\n",
    "\n",
    "    # Extract the directory and file name\n",
    "    directory = image_path.split('/')[-3]  # Adjusted to get the correct subdirectory\n",
    "    file_name = os.path.splitext(os.path.basename(image_path))[0] + '.txt'  # Fixed file name extraction\n",
    "    output_dir = f'labels/{directory}'\n",
    "    output_path = os.path.join(output_dir, file_name)\n",
    "\n",
    "    # Track the bounding box information for the image\n",
    "    if image_path not in processed_images:\n",
    "        processed_images[image_path] = []\n",
    "    processed_images[image_path].append(f\"{new_class_label} {' '.join(bbox_info)}\\n\")\n",
    "\n",
    "# Write the bounding box information to the corresponding files\n",
    "for image_path, bboxes in processed_images.items():\n",
    "    directory = image_path.split('/')[-3]\n",
    "    file_name = os.path.splitext(os.path.basename(image_path))[0] + '.txt'\n",
    "    output_dir = f'labels/{directory}'\n",
    "    output_path = os.path.join(output_dir, file_name)\n",
    "    \n",
    "    with open(output_path, 'w') as out_file:\n",
    "        for bbox in bboxes:\n",
    "            out_file.write(bbox)\n",
    "\n",
    "# Ensure every image has a corresponding text file even if empty\n",
    "all_images = set()\n",
    "for line in lines:\n",
    "    image_path = line.strip().split()[0]  # Corrected index to get the image path\n",
    "    all_images.add(image_path)\n",
    "\n",
    "for image_path in all_images:\n",
    "    directory = image_path.split('/')[-3]\n",
    "    file_name = os.path.splitext(os.path.basename(image_path))[0] + '.txt'\n",
    "    output_dir = f'labels/{directory}'\n",
    "    output_path = os.path.join(output_dir, file_name)\n",
    "    \n",
    "    # Create an empty file if it does not exist\n",
    "    if not os.path.exists(output_path):\n",
    "        open(output_path, 'w').close()\n",
    "\n",
    "print(\"Processing complete.\")"
   ]
  },
  {
   "cell_type": "code",
   "execution_count": null,
   "metadata": {},
   "outputs": [],
   "source": []
  }
 ],
 "metadata": {
  "kernelspec": {
   "display_name": "yolov10",
   "language": "python",
   "name": "python3"
  },
  "language_info": {
   "codemirror_mode": {
    "name": "ipython",
    "version": 3
   },
   "file_extension": ".py",
   "mimetype": "text/x-python",
   "name": "python",
   "nbconvert_exporter": "python",
   "pygments_lexer": "ipython3",
   "version": "3.9.19"
  }
 },
 "nbformat": 4,
 "nbformat_minor": 2
}
