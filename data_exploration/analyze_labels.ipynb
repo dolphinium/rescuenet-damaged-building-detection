{
 "cells": [
  {
   "cell_type": "code",
   "execution_count": 1,
   "metadata": {},
   "outputs": [],
   "source": [
    "import pandas as pd"
   ]
  },
  {
   "cell_type": "markdown",
   "metadata": {},
   "source": [
    "VERSION NO. = RescueNet_v1.0\n",
    "##----------------------------------------------\n",
    "Features: \n",
    "\t1. Total class: 11 ('Background':0, 'Debris':1, 'Water':2, 'Building_No_Damage':3, 'Building_Minor_Damage':4, 'Building_Major_Damage':5, 'Building_Total_Destruction':6, 'Vehicle':7, 'Road':8, 'Tree':9, 'Pool':10, 'Sand':11).\n",
    "           \n",
    "\t2. Total image: 4494 (Train: 3595, Val: 449, Test: 450)\n",
    "\t\n"
   ]
  },
  {
   "cell_type": "code",
   "execution_count": 2,
   "metadata": {},
   "outputs": [],
   "source": [
    "# Define class labels\n",
    "class_labels = {\n",
    "    1: 'debris',\n",
    "    2: 'water',\n",
    "    3: 'building-no-damage',\n",
    "    4: 'building-medium-damage',\n",
    "    5: 'building-major-damage',\n",
    "    6: 'building-total-destruction',\n",
    "    7: 'vehicle',\n",
    "    8: 'road',\n",
    "    9: 'tree',\n",
    "    10: 'pool',\n",
    "    11: 'sand'\n",
    "}\n",
    "\n",
    "# Define colors for each class\n",
    "colors = {\n",
    "    1: (0, 255, 0),     # Green for debris\n",
    "    2: (0, 0, 255),     # Red for water\n",
    "    3: (255, 0, 0),     # Blue for building-no-damage\n",
    "    4: (255, 255, 0),   # Cyan for building-medium-damage\n",
    "    5: (0, 255, 255),   # Yellow for building-major-damage\n",
    "    6: (255, 0, 255),   # Magenta for building-total-destruction\n",
    "    7: (0, 165, 255),   # Orange for vehicle\n",
    "    8: (255, 165, 0),   # Orange for road\n",
    "    9: (255, 20, 147),  # Deep pink for tree\n",
    "    10: (138, 43, 226), # Blue violet for pool\n",
    "    11: (75, 0, 130)    # Indigo for sand\n",
    "}"
   ]
  },
  {
   "cell_type": "code",
   "execution_count": 3,
   "metadata": {},
   "outputs": [
    {
     "data": {
      "text/html": [
       "<div>\n",
       "<style scoped>\n",
       "    .dataframe tbody tr th:only-of-type {\n",
       "        vertical-align: middle;\n",
       "    }\n",
       "\n",
       "    .dataframe tbody tr th {\n",
       "        vertical-align: top;\n",
       "    }\n",
       "\n",
       "    .dataframe thead th {\n",
       "        text-align: right;\n",
       "    }\n",
       "</style>\n",
       "<table border=\"1\" class=\"dataframe\">\n",
       "  <thead>\n",
       "    <tr style=\"text-align: right;\">\n",
       "      <th></th>\n",
       "      <th>class</th>\n",
       "      <th>x_center</th>\n",
       "      <th>y_center</th>\n",
       "      <th>width</th>\n",
       "      <th>height</th>\n",
       "    </tr>\n",
       "  </thead>\n",
       "  <tbody>\n",
       "    <tr>\n",
       "      <th>count</th>\n",
       "      <td>60706.000000</td>\n",
       "      <td>60706.000000</td>\n",
       "      <td>60706.000000</td>\n",
       "      <td>60706.000000</td>\n",
       "      <td>60706.000000</td>\n",
       "    </tr>\n",
       "    <tr>\n",
       "      <th>mean</th>\n",
       "      <td>3.651978</td>\n",
       "      <td>0.487903</td>\n",
       "      <td>0.489008</td>\n",
       "      <td>0.198605</td>\n",
       "      <td>0.239337</td>\n",
       "    </tr>\n",
       "    <tr>\n",
       "      <th>std</th>\n",
       "      <td>3.280054</td>\n",
       "      <td>0.286197</td>\n",
       "      <td>0.279693</td>\n",
       "      <td>0.292548</td>\n",
       "      <td>0.327155</td>\n",
       "    </tr>\n",
       "    <tr>\n",
       "      <th>min</th>\n",
       "      <td>1.000000</td>\n",
       "      <td>0.000123</td>\n",
       "      <td>0.000164</td>\n",
       "      <td>0.000247</td>\n",
       "      <td>0.000329</td>\n",
       "    </tr>\n",
       "    <tr>\n",
       "      <th>25%</th>\n",
       "      <td>1.000000</td>\n",
       "      <td>0.245000</td>\n",
       "      <td>0.253667</td>\n",
       "      <td>0.000500</td>\n",
       "      <td>0.000667</td>\n",
       "    </tr>\n",
       "    <tr>\n",
       "      <th>50%</th>\n",
       "      <td>1.000000</td>\n",
       "      <td>0.500000</td>\n",
       "      <td>0.500000</td>\n",
       "      <td>0.067500</td>\n",
       "      <td>0.087333</td>\n",
       "    </tr>\n",
       "    <tr>\n",
       "      <th>75%</th>\n",
       "      <td>7.000000</td>\n",
       "      <td>0.728250</td>\n",
       "      <td>0.718000</td>\n",
       "      <td>0.245250</td>\n",
       "      <td>0.323333</td>\n",
       "    </tr>\n",
       "    <tr>\n",
       "      <th>max</th>\n",
       "      <td>11.000000</td>\n",
       "      <td>0.999875</td>\n",
       "      <td>0.999836</td>\n",
       "      <td>1.000000</td>\n",
       "      <td>1.000000</td>\n",
       "    </tr>\n",
       "  </tbody>\n",
       "</table>\n",
       "</div>"
      ],
      "text/plain": [
       "              class      x_center      y_center         width        height\n",
       "count  60706.000000  60706.000000  60706.000000  60706.000000  60706.000000\n",
       "mean       3.651978      0.487903      0.489008      0.198605      0.239337\n",
       "std        3.280054      0.286197      0.279693      0.292548      0.327155\n",
       "min        1.000000      0.000123      0.000164      0.000247      0.000329\n",
       "25%        1.000000      0.245000      0.253667      0.000500      0.000667\n",
       "50%        1.000000      0.500000      0.500000      0.067500      0.087333\n",
       "75%        7.000000      0.728250      0.718000      0.245250      0.323333\n",
       "max       11.000000      0.999875      0.999836      1.000000      1.000000"
      ]
     },
     "execution_count": 3,
     "metadata": {},
     "output_type": "execute_result"
    }
   ],
   "source": [
    "df = pd.read_csv(\"../preprocess/bboxes/yolo_annotations_full.txt\",sep=\" \")\n",
    "df.columns = [\"path\",\"class\",\"x_center\",\"y_center\",\"width\",\"height\"]\n",
    "df.describe()"
   ]
  },
  {
   "cell_type": "code",
   "execution_count": 5,
   "metadata": {},
   "outputs": [
    {
     "data": {
      "text/plain": [
       "4494"
      ]
     },
     "execution_count": 5,
     "metadata": {},
     "output_type": "execute_result"
    }
   ],
   "source": [
    "len(df.path.unique())"
   ]
  },
  {
   "cell_type": "code",
   "execution_count": 21,
   "metadata": {},
   "outputs": [
    {
     "name": "stdout",
     "output_type": "stream",
     "text": [
      "# of images for building-no-damage class:  4142\n",
      "# of images for building-medium-damage class:  3098\n",
      "# of images for building-major-damage class:  1735\n",
      "# of images for building-total-destruction class:  2100\n"
     ]
    }
   ],
   "source": [
    "print(\"# of images for building-no-damage class: \",len(df[df[\"class\"]== 3]))\n",
    "print(\"# of images for building-medium-damage class: \",len(df[df[\"class\"]== 4]))\n",
    "print(\"# of images for building-major-damage class: \",len(df[df[\"class\"]== 5]))\n",
    "print(\"# of images for building-total-destruction class: \",len(df[df[\"class\"]== 6]))"
   ]
  },
  {
   "cell_type": "markdown",
   "metadata": {},
   "source": [
    "subset building distribution "
   ]
  },
  {
   "cell_type": "code",
   "execution_count": 22,
   "metadata": {},
   "outputs": [
    {
     "data": {
      "text/html": [
       "<div>\n",
       "<style scoped>\n",
       "    .dataframe tbody tr th:only-of-type {\n",
       "        vertical-align: middle;\n",
       "    }\n",
       "\n",
       "    .dataframe tbody tr th {\n",
       "        vertical-align: top;\n",
       "    }\n",
       "\n",
       "    .dataframe thead th {\n",
       "        text-align: right;\n",
       "    }\n",
       "</style>\n",
       "<table border=\"1\" class=\"dataframe\">\n",
       "  <thead>\n",
       "    <tr style=\"text-align: right;\">\n",
       "      <th></th>\n",
       "      <th>class</th>\n",
       "      <th>x_center</th>\n",
       "      <th>y_center</th>\n",
       "      <th>width</th>\n",
       "      <th>height</th>\n",
       "    </tr>\n",
       "  </thead>\n",
       "  <tbody>\n",
       "    <tr>\n",
       "      <th>count</th>\n",
       "      <td>1979.000000</td>\n",
       "      <td>1979.000000</td>\n",
       "      <td>1979.000000</td>\n",
       "      <td>1979.000000</td>\n",
       "      <td>1979.000000</td>\n",
       "    </tr>\n",
       "    <tr>\n",
       "      <th>mean</th>\n",
       "      <td>5.148560</td>\n",
       "      <td>0.525912</td>\n",
       "      <td>0.510412</td>\n",
       "      <td>0.165490</td>\n",
       "      <td>0.209242</td>\n",
       "    </tr>\n",
       "    <tr>\n",
       "      <th>std</th>\n",
       "      <td>3.449207</td>\n",
       "      <td>0.276330</td>\n",
       "      <td>0.282908</td>\n",
       "      <td>0.256884</td>\n",
       "      <td>0.284427</td>\n",
       "    </tr>\n",
       "    <tr>\n",
       "      <th>min</th>\n",
       "      <td>1.000000</td>\n",
       "      <td>0.000125</td>\n",
       "      <td>0.000167</td>\n",
       "      <td>0.000250</td>\n",
       "      <td>0.000333</td>\n",
       "    </tr>\n",
       "    <tr>\n",
       "      <th>25%</th>\n",
       "      <td>1.000000</td>\n",
       "      <td>0.314625</td>\n",
       "      <td>0.273500</td>\n",
       "      <td>0.011250</td>\n",
       "      <td>0.012500</td>\n",
       "    </tr>\n",
       "    <tr>\n",
       "      <th>50%</th>\n",
       "      <td>6.000000</td>\n",
       "      <td>0.500000</td>\n",
       "      <td>0.500667</td>\n",
       "      <td>0.068250</td>\n",
       "      <td>0.094333</td>\n",
       "    </tr>\n",
       "    <tr>\n",
       "      <th>75%</th>\n",
       "      <td>9.000000</td>\n",
       "      <td>0.763250</td>\n",
       "      <td>0.744583</td>\n",
       "      <td>0.176375</td>\n",
       "      <td>0.264000</td>\n",
       "    </tr>\n",
       "    <tr>\n",
       "      <th>max</th>\n",
       "      <td>11.000000</td>\n",
       "      <td>0.999875</td>\n",
       "      <td>0.999833</td>\n",
       "      <td>1.000000</td>\n",
       "      <td>1.000000</td>\n",
       "    </tr>\n",
       "  </tbody>\n",
       "</table>\n",
       "</div>"
      ],
      "text/plain": [
       "             class     x_center     y_center        width       height\n",
       "count  1979.000000  1979.000000  1979.000000  1979.000000  1979.000000\n",
       "mean      5.148560     0.525912     0.510412     0.165490     0.209242\n",
       "std       3.449207     0.276330     0.282908     0.256884     0.284427\n",
       "min       1.000000     0.000125     0.000167     0.000250     0.000333\n",
       "25%       1.000000     0.314625     0.273500     0.011250     0.012500\n",
       "50%       6.000000     0.500000     0.500667     0.068250     0.094333\n",
       "75%       9.000000     0.763250     0.744583     0.176375     0.264000\n",
       "max      11.000000     0.999875     0.999833     1.000000     1.000000"
      ]
     },
     "execution_count": 22,
     "metadata": {},
     "output_type": "execute_result"
    }
   ],
   "source": [
    "df = pd.read_csv(\"../preprocess/bboxes/yolo_annotations.txt\",sep=\" \")\n",
    "df.columns = [\"path\",\"class\",\"x_center\",\"y_center\",\"width\",\"height\"]\n",
    "df.describe()"
   ]
  },
  {
   "cell_type": "code",
   "execution_count": 23,
   "metadata": {},
   "outputs": [
    {
     "name": "stdout",
     "output_type": "stream",
     "text": [
      "# of images for building-no-damage class:  88\n",
      "# of images for building-medium-damage class:  47\n",
      "# of images for building-major-damage class:  62\n",
      "# of images for building-total-destruction class:  266\n"
     ]
    }
   ],
   "source": [
    "print(\"# of images for building-no-damage class: \",len(df[df[\"class\"]== 3]))\n",
    "print(\"# of images for building-medium-damage class: \",len(df[df[\"class\"]== 4]))\n",
    "print(\"# of images for building-major-damage class: \",len(df[df[\"class\"]== 5]))\n",
    "print(\"# of images for building-total-destruction class: \",len(df[df[\"class\"]== 6]))"
   ]
  }
 ],
 "metadata": {
  "kernelspec": {
   "display_name": "yolov10",
   "language": "python",
   "name": "python3"
  },
  "language_info": {
   "codemirror_mode": {
    "name": "ipython",
    "version": 3
   },
   "file_extension": ".py",
   "mimetype": "text/x-python",
   "name": "python",
   "nbconvert_exporter": "python",
   "pygments_lexer": "ipython3",
   "version": "3.9.19"
  }
 },
 "nbformat": 4,
 "nbformat_minor": 2
}
